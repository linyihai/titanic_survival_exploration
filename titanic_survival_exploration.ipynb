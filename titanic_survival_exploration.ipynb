{
 "cells": [
  {
   "cell_type": "markdown",
   "metadata": {},
   "source": [
    "# 机器学习工程师纳米学位\n",
    "## 机器学习基础\n",
    "## 项目 0: 预测泰坦尼克号乘客生还率\n",
    "\n",
    "1912年，泰坦尼克号在第一次航行中就与冰山相撞沉没，导致了大部分乘客和船员身亡。在这个入门项目中，我们将探索部分泰坦尼克号旅客名单，来确定哪些特征可以最好地预测一个人是否会生还。为了完成这个项目，你将需要实现几个基于条件的预测并回答下面的问题。我们将根据代码的完成度和对问题的解答来对你提交的项目的进行评估。 \n",
    "\n",
    "> **提示**：这样的文字将会指导你如何使用 iPython Notebook 来完成项目。"
   ]
  },
  {
   "cell_type": "markdown",
   "metadata": {},
   "source": [
    "点击[这里](https://github.com/udacity/machine-learning/blob/master/projects/titanic_survival_exploration/titanic_survival_exploration.ipynb)查看本文件的英文版本。"
   ]
  },
  {
   "cell_type": "markdown",
   "metadata": {},
   "source": [
    "### 了解数据\n",
    "\n",
    "当我们开始处理泰坦尼克号乘客数据时，会先导入我们需要的功能模块以及将数据加载到 `pandas` DataFrame。运行下面区域中的代码加载数据，并使用 `.head()` 函数显示前几项乘客数据。 \n",
    "\n",
    "> **提示**：你可以通过单击代码区域，然后使用键盘快捷键 **Shift+Enter** 或 **Shift+ Return** 来运行代码。或者在选择代码后使用**播放**（run cell）按钮执行代码。像这样的 MarkDown 文本可以通过双击编辑，并使用这些相同的快捷键保存。[Markdown](http://daringfireball.net/projects/markdown/syntax) 允许你编写易读的纯文本并且可以转换为 HTML。"
   ]
  },
  {
   "cell_type": "code",
   "execution_count": 1,
   "metadata": {},
   "outputs": [],
   "source": [
    "# 检查你的Python版本\n",
    "from sys import version_info\n",
    "if version_info.major != 2 and version_info.minor != 7:\n",
    "    raise Exception('请使用Python 2.7来完成此项目')"
   ]
  },
  {
   "cell_type": "code",
   "execution_count": 3,
   "metadata": {},
   "outputs": [
    {
     "data": {
      "text/html": [
       "<div>\n",
       "<style scoped>\n",
       "    .dataframe tbody tr th:only-of-type {\n",
       "        vertical-align: middle;\n",
       "    }\n",
       "\n",
       "    .dataframe tbody tr th {\n",
       "        vertical-align: top;\n",
       "    }\n",
       "\n",
       "    .dataframe thead th {\n",
       "        text-align: right;\n",
       "    }\n",
       "</style>\n",
       "<table border=\"1\" class=\"dataframe\">\n",
       "  <thead>\n",
       "    <tr style=\"text-align: right;\">\n",
       "      <th></th>\n",
       "      <th>PassengerId</th>\n",
       "      <th>Survived</th>\n",
       "      <th>Pclass</th>\n",
       "      <th>Name</th>\n",
       "      <th>Sex</th>\n",
       "      <th>Age</th>\n",
       "      <th>SibSp</th>\n",
       "      <th>Parch</th>\n",
       "      <th>Ticket</th>\n",
       "      <th>Fare</th>\n",
       "      <th>Cabin</th>\n",
       "      <th>Embarked</th>\n",
       "    </tr>\n",
       "  </thead>\n",
       "  <tbody>\n",
       "    <tr>\n",
       "      <th>0</th>\n",
       "      <td>1</td>\n",
       "      <td>0</td>\n",
       "      <td>3</td>\n",
       "      <td>Braund, Mr. Owen Harris</td>\n",
       "      <td>male</td>\n",
       "      <td>22.0</td>\n",
       "      <td>1</td>\n",
       "      <td>0</td>\n",
       "      <td>A/5 21171</td>\n",
       "      <td>7.2500</td>\n",
       "      <td>NaN</td>\n",
       "      <td>S</td>\n",
       "    </tr>\n",
       "    <tr>\n",
       "      <th>1</th>\n",
       "      <td>2</td>\n",
       "      <td>1</td>\n",
       "      <td>1</td>\n",
       "      <td>Cumings, Mrs. John Bradley (Florence Briggs Th...</td>\n",
       "      <td>female</td>\n",
       "      <td>38.0</td>\n",
       "      <td>1</td>\n",
       "      <td>0</td>\n",
       "      <td>PC 17599</td>\n",
       "      <td>71.2833</td>\n",
       "      <td>C85</td>\n",
       "      <td>C</td>\n",
       "    </tr>\n",
       "    <tr>\n",
       "      <th>2</th>\n",
       "      <td>3</td>\n",
       "      <td>1</td>\n",
       "      <td>3</td>\n",
       "      <td>Heikkinen, Miss. Laina</td>\n",
       "      <td>female</td>\n",
       "      <td>26.0</td>\n",
       "      <td>0</td>\n",
       "      <td>0</td>\n",
       "      <td>STON/O2. 3101282</td>\n",
       "      <td>7.9250</td>\n",
       "      <td>NaN</td>\n",
       "      <td>S</td>\n",
       "    </tr>\n",
       "    <tr>\n",
       "      <th>3</th>\n",
       "      <td>4</td>\n",
       "      <td>1</td>\n",
       "      <td>1</td>\n",
       "      <td>Futrelle, Mrs. Jacques Heath (Lily May Peel)</td>\n",
       "      <td>female</td>\n",
       "      <td>35.0</td>\n",
       "      <td>1</td>\n",
       "      <td>0</td>\n",
       "      <td>113803</td>\n",
       "      <td>53.1000</td>\n",
       "      <td>C123</td>\n",
       "      <td>S</td>\n",
       "    </tr>\n",
       "    <tr>\n",
       "      <th>4</th>\n",
       "      <td>5</td>\n",
       "      <td>0</td>\n",
       "      <td>3</td>\n",
       "      <td>Allen, Mr. William Henry</td>\n",
       "      <td>male</td>\n",
       "      <td>35.0</td>\n",
       "      <td>0</td>\n",
       "      <td>0</td>\n",
       "      <td>373450</td>\n",
       "      <td>8.0500</td>\n",
       "      <td>NaN</td>\n",
       "      <td>S</td>\n",
       "    </tr>\n",
       "  </tbody>\n",
       "</table>\n",
       "</div>"
      ],
      "text/plain": [
       "   PassengerId  Survived  Pclass  \\\n",
       "0            1         0       3   \n",
       "1            2         1       1   \n",
       "2            3         1       3   \n",
       "3            4         1       1   \n",
       "4            5         0       3   \n",
       "\n",
       "                                                Name     Sex   Age  SibSp  \\\n",
       "0                            Braund, Mr. Owen Harris    male  22.0      1   \n",
       "1  Cumings, Mrs. John Bradley (Florence Briggs Th...  female  38.0      1   \n",
       "2                             Heikkinen, Miss. Laina  female  26.0      0   \n",
       "3       Futrelle, Mrs. Jacques Heath (Lily May Peel)  female  35.0      1   \n",
       "4                           Allen, Mr. William Henry    male  35.0      0   \n",
       "\n",
       "   Parch            Ticket     Fare Cabin Embarked  \n",
       "0      0         A/5 21171   7.2500   NaN        S  \n",
       "1      0          PC 17599  71.2833   C85        C  \n",
       "2      0  STON/O2. 3101282   7.9250   NaN        S  \n",
       "3      0            113803  53.1000  C123        S  \n",
       "4      0            373450   8.0500   NaN        S  "
      ]
     },
     "metadata": {},
     "output_type": "display_data"
    }
   ],
   "source": [
    "import numpy as np\n",
    "import pandas as pd\n",
    "\n",
    "# 数据可视化代码\n",
    "from titanic_visualizations import survival_stats\n",
    "from IPython.display import display\n",
    "%matplotlib inline\n",
    "\n",
    "# 加载数据集\n",
    "in_file = 'titanic_data.csv'\n",
    "full_data = pd.read_csv(in_file)\n",
    "\n",
    "# 显示数据列表中的前几项乘客数据\n",
    "display(full_data.head())"
   ]
  },
  {
   "cell_type": "markdown",
   "metadata": {},
   "source": [
    "从泰坦尼克号的数据样本中，我们可以看到船上每位旅客的特征\n",
    "\n",
    "- **Survived**：是否存活（0代表否，1代表是）\n",
    "- **Pclass**：社会阶级（1代表上层阶级，2代表中层阶级，3代表底层阶级）\n",
    "- **Name**：船上乘客的名字\n",
    "- **Sex**：船上乘客的性别\n",
    "- **Age**:船上乘客的年龄（可能存在 `NaN`）\n",
    "- **SibSp**：乘客在船上的兄弟姐妹和配偶的数量\n",
    "- **Parch**：乘客在船上的父母以及小孩的数量\n",
    "- **Ticket**：乘客船票的编号\n",
    "- **Fare**：乘客为船票支付的费用\n",
    "- **Cabin**：乘客所在船舱的编号（可能存在 `NaN`）\n",
    "- **Embarked**：乘客上船的港口（C 代表从 Cherbourg 登船，Q 代表从 Queenstown 登船，S 代表从 Southampton 登船）\n",
    "\n",
    "因为我们感兴趣的是每个乘客或船员是否在事故中活了下来。可以将 **Survived** 这一特征从这个数据集移除，并且用一个单独的变量 `outcomes` 来存储。它也做为我们要预测的目标。\n",
    "\n",
    "运行该代码，从数据集中移除 **Survived** 这个特征，并将它存储在变量 `outcomes` 中。"
   ]
  },
  {
   "cell_type": "code",
   "execution_count": 4,
   "metadata": {},
   "outputs": [
    {
     "data": {
      "text/html": [
       "<div>\n",
       "<style scoped>\n",
       "    .dataframe tbody tr th:only-of-type {\n",
       "        vertical-align: middle;\n",
       "    }\n",
       "\n",
       "    .dataframe tbody tr th {\n",
       "        vertical-align: top;\n",
       "    }\n",
       "\n",
       "    .dataframe thead th {\n",
       "        text-align: right;\n",
       "    }\n",
       "</style>\n",
       "<table border=\"1\" class=\"dataframe\">\n",
       "  <thead>\n",
       "    <tr style=\"text-align: right;\">\n",
       "      <th></th>\n",
       "      <th>PassengerId</th>\n",
       "      <th>Pclass</th>\n",
       "      <th>Name</th>\n",
       "      <th>Sex</th>\n",
       "      <th>Age</th>\n",
       "      <th>SibSp</th>\n",
       "      <th>Parch</th>\n",
       "      <th>Ticket</th>\n",
       "      <th>Fare</th>\n",
       "      <th>Cabin</th>\n",
       "      <th>Embarked</th>\n",
       "    </tr>\n",
       "  </thead>\n",
       "  <tbody>\n",
       "    <tr>\n",
       "      <th>0</th>\n",
       "      <td>1</td>\n",
       "      <td>3</td>\n",
       "      <td>Braund, Mr. Owen Harris</td>\n",
       "      <td>male</td>\n",
       "      <td>22.0</td>\n",
       "      <td>1</td>\n",
       "      <td>0</td>\n",
       "      <td>A/5 21171</td>\n",
       "      <td>7.2500</td>\n",
       "      <td>NaN</td>\n",
       "      <td>S</td>\n",
       "    </tr>\n",
       "    <tr>\n",
       "      <th>1</th>\n",
       "      <td>2</td>\n",
       "      <td>1</td>\n",
       "      <td>Cumings, Mrs. John Bradley (Florence Briggs Th...</td>\n",
       "      <td>female</td>\n",
       "      <td>38.0</td>\n",
       "      <td>1</td>\n",
       "      <td>0</td>\n",
       "      <td>PC 17599</td>\n",
       "      <td>71.2833</td>\n",
       "      <td>C85</td>\n",
       "      <td>C</td>\n",
       "    </tr>\n",
       "    <tr>\n",
       "      <th>2</th>\n",
       "      <td>3</td>\n",
       "      <td>3</td>\n",
       "      <td>Heikkinen, Miss. Laina</td>\n",
       "      <td>female</td>\n",
       "      <td>26.0</td>\n",
       "      <td>0</td>\n",
       "      <td>0</td>\n",
       "      <td>STON/O2. 3101282</td>\n",
       "      <td>7.9250</td>\n",
       "      <td>NaN</td>\n",
       "      <td>S</td>\n",
       "    </tr>\n",
       "    <tr>\n",
       "      <th>3</th>\n",
       "      <td>4</td>\n",
       "      <td>1</td>\n",
       "      <td>Futrelle, Mrs. Jacques Heath (Lily May Peel)</td>\n",
       "      <td>female</td>\n",
       "      <td>35.0</td>\n",
       "      <td>1</td>\n",
       "      <td>0</td>\n",
       "      <td>113803</td>\n",
       "      <td>53.1000</td>\n",
       "      <td>C123</td>\n",
       "      <td>S</td>\n",
       "    </tr>\n",
       "    <tr>\n",
       "      <th>4</th>\n",
       "      <td>5</td>\n",
       "      <td>3</td>\n",
       "      <td>Allen, Mr. William Henry</td>\n",
       "      <td>male</td>\n",
       "      <td>35.0</td>\n",
       "      <td>0</td>\n",
       "      <td>0</td>\n",
       "      <td>373450</td>\n",
       "      <td>8.0500</td>\n",
       "      <td>NaN</td>\n",
       "      <td>S</td>\n",
       "    </tr>\n",
       "  </tbody>\n",
       "</table>\n",
       "</div>"
      ],
      "text/plain": [
       "   PassengerId  Pclass                                               Name  \\\n",
       "0            1       3                            Braund, Mr. Owen Harris   \n",
       "1            2       1  Cumings, Mrs. John Bradley (Florence Briggs Th...   \n",
       "2            3       3                             Heikkinen, Miss. Laina   \n",
       "3            4       1       Futrelle, Mrs. Jacques Heath (Lily May Peel)   \n",
       "4            5       3                           Allen, Mr. William Henry   \n",
       "\n",
       "      Sex   Age  SibSp  Parch            Ticket     Fare Cabin Embarked  \n",
       "0    male  22.0      1      0         A/5 21171   7.2500   NaN        S  \n",
       "1  female  38.0      1      0          PC 17599  71.2833   C85        C  \n",
       "2  female  26.0      0      0  STON/O2. 3101282   7.9250   NaN        S  \n",
       "3  female  35.0      1      0            113803  53.1000  C123        S  \n",
       "4    male  35.0      0      0            373450   8.0500   NaN        S  "
      ]
     },
     "metadata": {},
     "output_type": "display_data"
    }
   ],
   "source": [
    "# 从数据集中移除 'Survived' 这个特征，并将它存储在一个新的变量中。\n",
    "outcomes = full_data['Survived']\n",
    "data = full_data.drop('Survived', axis = 1)\n",
    "\n",
    "# 显示已移除 'Survived' 特征的数据集\n",
    "display(data.head())"
   ]
  },
  {
   "cell_type": "markdown",
   "metadata": {},
   "source": [
    "这个例子展示了如何将泰坦尼克号的 **Survived** 数据从 DataFrame 移除。注意到 `data`（乘客数据）和 `outcomes` （是否存活）现在已经匹配好。这意味着对于任何乘客的 `data.loc[i]` 都有对应的存活的结果 `outcome[i]`。"
   ]
  },
  {
   "cell_type": "markdown",
   "metadata": {},
   "source": [
    "### 计算准确率\n",
    "为了验证我们预测的结果，我们需要一个标准来给我们的预测打分。因为我们最感兴趣的是我们预测的**准确率**，既正确预测乘客存活的比例。运行下面的代码来创建我们的 `accuracy_score` 函数以对前五名乘客的预测来做测试。\n",
    "\n",
    "**思考题**：在前五个乘客中，如果我们预测他们全部都存活，你觉得我们预测的准确率是多少？"
   ]
  },
  {
   "cell_type": "code",
   "execution_count": 5,
   "metadata": {},
   "outputs": [
    {
     "name": "stdout",
     "output_type": "stream",
     "text": [
      "Predictions have an accuracy of 60.00%.\n"
     ]
    }
   ],
   "source": [
    "def accuracy_score(truth, pred):\n",
    "    \"\"\" 返回 pred 相对于 truth 的准确率 \"\"\"\n",
    "    \n",
    "    # 确保预测的数量与结果的数量一致\n",
    "    if len(truth) == len(pred): \n",
    "        \n",
    "        # 计算预测准确率（百分比）\n",
    "        return \"Predictions have an accuracy of {:.2f}%.\".format((truth == pred).mean()*100)\n",
    "    \n",
    "    else:\n",
    "        return \"Number of predictions does not match number of outcomes!\"\n",
    "    \n",
    "# 测试 'accuracy_score' 函数\n",
    "predictions = pd.Series(np.ones(5, dtype = int)) #五个预测全部为1，既存活\n",
    "print accuracy_score(outcomes[:5], predictions)"
   ]
  },
  {
   "cell_type": "markdown",
   "metadata": {},
   "source": [
    "> **提示**：如果你保存 iPython Notebook，代码运行的输出也将被保存。但是，一旦你重新打开项目，你的工作区将会被重置。请确保每次都从上次离开的地方运行代码来重新生成变量和函数。\n",
    "\n",
    "### 最简单的预测\n",
    "\n",
    "如果我们要预测泰坦尼克号上的乘客是否存活，但是我们又对他们一无所知，那么最好的预测就是船上的人无一幸免。这是因为，我们可以假定当船沉没的时候大多数乘客都遇难了。下面的 `predictions_0` 函数就预测船上的乘客全部遇难。  "
   ]
  },
  {
   "cell_type": "code",
   "execution_count": 6,
   "metadata": {},
   "outputs": [],
   "source": [
    "def predictions_0(data):\n",
    "    \"\"\" 不考虑任何特征，预测所有人都无法生还 \"\"\"\n",
    "\n",
    "    predictions = []\n",
    "    for _, passenger in data.iterrows():\n",
    "        \n",
    "        # 预测 'passenger' 的生还率\n",
    "        predictions.append(0)\n",
    "    \n",
    "    # 返回预测结果\n",
    "    return pd.Series(predictions)\n",
    "\n",
    "# 进行预测\n",
    "predictions = predictions_0(data)"
   ]
  },
  {
   "cell_type": "markdown",
   "metadata": {},
   "source": [
    "**问题1**：对比真实的泰坦尼克号的数据，如果我们做一个所有乘客都没有存活的预测，这个预测的准确率能达到多少？\n",
    "\n",
    "**回答**： Predictions have an accuracy of 61.62%.\n",
    "\n",
    "**提示**：运行下面的代码来查看预测的准确率。"
   ]
  },
  {
   "cell_type": "code",
   "execution_count": 7,
   "metadata": {},
   "outputs": [
    {
     "name": "stdout",
     "output_type": "stream",
     "text": [
      "Predictions have an accuracy of 61.62%.\n"
     ]
    }
   ],
   "source": [
    "print accuracy_score(outcomes, predictions)"
   ]
  },
  {
   "cell_type": "markdown",
   "metadata": {},
   "source": [
    "### 考虑一个特征进行预测\n",
    "\n",
    "我们可以使用 `survival_stats` 函数来看看 **Sex** 这一特征对乘客的存活率有多大影响。这个函数定义在名为 `titanic_visualizations.py` 的 Python 脚本文件中，我们的项目提供了这个文件。传递给函数的前两个参数分别是泰坦尼克号的乘客数据和乘客的 生还结果。第三个参数表明我们会依据哪个特征来绘制图形。\n",
    "\n",
    "运行下面的代码绘制出依据乘客性别计算存活率的柱形图。 "
   ]
  },
  {
   "cell_type": "code",
   "execution_count": 9,
   "metadata": {},
   "outputs": [
    {
     "data": {
      "image/png": "[encoded data removed]",
      "text/plain": [
       "<matplotlib.figure.Figure at 0x26c9278>"
      ]
     },
     "metadata": {},
     "output_type": "display_data"
    }
   ],
   "source": [
    "survival_stats(data, outcomes, 'Sex')"
   ]
  },
  {
   "cell_type": "markdown",
   "metadata": {},
   "source": [
    "观察泰坦尼克号上乘客存活的数据统计，我们可以发现大部分男性乘客在船沉没的时候都遇难了。相反的，大部分女性乘客都在事故中**生还**。让我们以此改进先前的预测：如果乘客是男性，那么我们就预测他们遇难；如果乘客是女性，那么我们预测他们在事故中活了下来。\n",
    "\n",
    "将下面的代码补充完整，让函数可以进行正确预测。  \n",
    "\n",
    "**提示**：您可以用访问 dictionary（字典）的方法来访问船上乘客的每个特征对应的值。例如， `passenger['Sex']` 返回乘客的性别。"
   ]
  },
  {
   "cell_type": "code",
   "execution_count": 10,
   "metadata": {},
   "outputs": [],
   "source": [
    "def predictions_1(data):\n",
    "    \"\"\" 只考虑一个特征，如果是女性则生还 \"\"\"\n",
    "    \n",
    "    predictions = []\n",
    "    for _, passenger in data.iterrows():\n",
    "        \n",
    "        # TODO 1\n",
    "        # 移除下方的 'pass' 声明\n",
    "        # 输入你自己的预测条件\n",
    "        if passenger['Sex'] == 'female':\n",
    "            predictions.append(1)\n",
    "        elif:\n",
    "            predictions.append(0)\n",
    "    \n",
    "    # 返回预测结果\n",
    "    return pd.Series(predictions)\n",
    "\n",
    "# 进行预测\n",
    "predictions = predictions_1(data)"
   ]
  },
  {
   "cell_type": "markdown",
   "metadata": {},
   "source": [
    "**问题2**：当我们预测船上女性乘客全部存活，而剩下的人全部遇难，那么我们预测的准确率会达到多少？\n",
    "\n",
    "**回答**: Predictions have an accuracy of 78.68%.\n",
    "\n",
    "**提示**：你需要在下面添加一个代码区域，实现代码并运行来计算准确率。"
   ]
  },
  {
   "cell_type": "code",
   "execution_count": 11,
   "metadata": {},
   "outputs": [
    {
     "name": "stdout",
     "output_type": "stream",
     "text": [
      "Predictions have an accuracy of 78.68%.\n"
     ]
    }
   ],
   "source": [
    "print accuracy_score(outcomes, predictions)"
   ]
  },
  {
   "cell_type": "markdown",
   "metadata": {},
   "source": [
    "### 考虑两个特征进行预测\n",
    "\n",
    "仅仅使用乘客性别（Sex）这一特征，我们预测的准确性就有了明显的提高。现在再看一下使用额外的特征能否更进一步提升我们的预测准确度。例如，综合考虑所有在泰坦尼克号上的男性乘客：我们是否找到这些乘客中的一个子集，他们的存活概率较高。让我们再次使用 `survival_stats` 函数来看看每位男性乘客的年龄（Age）。这一次，我们将使用第四个参数来限定柱形图中只有男性乘客。\n",
    "\n",
    "运行下面这段代码，把男性基于年龄的生存结果绘制出来。"
   ]
  },
  {
   "cell_type": "code",
   "execution_count": null,
   "metadata": {},
   "outputs": [],
   "source": [
    "survival_stats(data, outcomes, 'Age', [\"Sex == 'male'\"])"
   ]
  },
  {
   "cell_type": "markdown",
   "metadata": {
    "collapsed": true
   },
   "source": [
    "仔细观察泰坦尼克号存活的数据统计，在船沉没的时候，大部分小于10岁的男孩都活着，而大多数10岁以上的男性都随着船的沉没而**遇难**。让我们继续在先前预测的基础上构建：如果乘客是女性，那么我们就预测她们全部存活；如果乘客是男性并且小于10岁，我们也会预测他们全部存活；所有其它我们就预测他们都没有幸存。  \n",
    "\n",
    "将下面缺失的代码补充完整，让我们的函数可以实现预测。  \n",
    "**提示**: 您可以用之前 `predictions_1` 的代码作为开始来修改代码，实现新的预测函数。"
   ]
  },
  {
   "cell_type": "code",
   "execution_count": 16,
   "metadata": {},
   "outputs": [],
   "source": [
    "def predictions_2(data):\n",
    "    \"\"\" 考虑两个特征: \n",
    "            - 如果是女性则生还\n",
    "            - 如果是男性并且小于10岁则生还 \"\"\"\n",
    "    \n",
    "    predictions = []\n",
    "    for _, passenger in data.iterrows():\n",
    "        \n",
    "        # TODO 2\n",
    "        # 移除下方的 'pass' 声明\n",
    "        # 输入你自己的预测条件\n",
    "        if passenger['Sex'] == 'female':\n",
    "            predictions.append(1)\n",
    "        elif passenger['Sex'] == 'male':\n",
    "            try:\n",
    "                if int(passenger['Age']) < 10:\n",
    "                    predictions.append(1)\n",
    "                else:\n",
    "                    predictions.append(0)\n",
    "            except ValueError:\n",
    "                predictions.append(0)\n",
    "        else:\n",
    "             predictions.append(0)\n",
    "    # 返回预测结果\n",
    "    return pd.Series(predictions)\n",
    "\n",
    "# 进行预测\n",
    "predictions = predictions_2(data)"
   ]
  },
  {
   "cell_type": "markdown",
   "metadata": {},
   "source": [
    "**问题3**：当预测所有女性以及小于10岁的男性都存活的时候，预测的准确率会达到多少？\n",
    "\n",
    "**回答**: *Predictions have an accuracy of 79.35%.*\n",
    "\n",
    "**提示**：你需要在下面添加一个代码区域，实现代码并运行来计算准确率。"
   ]
  },
  {
   "cell_type": "code",
   "execution_count": 17,
   "metadata": {},
   "outputs": [
    {
     "name": "stdout",
     "output_type": "stream",
     "text": [
      "Predictions have an accuracy of 79.35%.\n"
     ]
    }
   ],
   "source": [
    "print accuracy_score(outcomes, predictions)"
   ]
  },
  {
   "cell_type": "markdown",
   "metadata": {
    "collapsed": true
   },
   "source": [
    "### 你自己的预测模型\n",
    "\n",
    "添加年龄（Age）特征与性别（Sex）的结合比单独使用性别（Sex）也提高了不少准确度。现在该你来做预测了：找到一系列的特征和条件来对数据进行划分，使得预测结果提高到80%以上。这可能需要多个特性和多个层次的条件语句才会成功。你可以在不同的条件下多次使用相同的特征。**Pclass**，**Sex**，**Age**，**SibSp** 和 **Parch** 是建议尝试使用的特征。   \n",
    "\n",
    "使用 `survival_stats` 函数来观测泰坦尼克号上乘客存活的数据统计。  \n",
    "**提示:** 要使用多个过滤条件，把每一个条件放在一个列表里作为最后一个参数传递进去。例如: `[\"Sex == 'male'\", \"Age < 18\"]`"
   ]
  },
  {
   "cell_type": "code",
   "execution_count": 239,
   "metadata": {},
   "outputs": [
    {
     "data": {
      "image/png": "[encoded data removed]",
      "text/plain": [
       "<matplotlib.figure.Figure at 0x1407cf28>"
      ]
     },
     "metadata": {},
     "output_type": "display_data"
    },
    {
     "data": {
      "image/png": "[encoded data removed]",
      "text/plain": [
       "<matplotlib.figure.Figure at 0x10cd3588>"
      ]
     },
     "metadata": {},
     "output_type": "display_data"
    },
    {
     "data": {
      "image/png": "[encoded data removed]",
      "text/plain": [
       "<matplotlib.figure.Figure at 0x10b87198>"
      ]
     },
     "metadata": {},
     "output_type": "display_data"
    },
    {
     "data": {
      "image/png": "[encoded data removed]",
      "text/plain": [
       "<matplotlib.figure.Figure at 0x10b876d8>"
      ]
     },
     "metadata": {},
     "output_type": "display_data"
    },
    {
     "data": {
      "image/png": "[encoded data removed]",
      "text/plain": [
       "<matplotlib.figure.Figure at 0x135be8d0>"
      ]
     },
     "metadata": {},
     "output_type": "display_data"
    }
   ],
   "source": [
    "survival_stats(data, outcomes, 'Pclass')\n",
    "survival_stats(data, outcomes, 'Sex')\n",
    "survival_stats(data, outcomes, 'Age')\n",
    "survival_stats(data, outcomes, 'SibSp')\n",
    "survival_stats(data, outcomes, 'Parch') \n",
    "\n",
    "survival_stats(data, outcomes, 'Sex', [\"Sex == female\", \"Pclass == 1\"])\n",
    "survival_stats(data, outcomes, 'Sex', [\"Sex == female\", \"Pclass == 2\"])\n",
    "survival_stats(data, outcomes, 'Sex', [\"Sex == female\", \"Pclass == 3\"])\n",
    "\n",
    "survival_stats(data, outcomes, 'Sex', [\"Sex == female\", \"Pclass == 1\"])\n",
    "survival_stats(data, outcomes, 'Sex', [\"Sex == female\", \"Pclass == 1\", \"Age < 10\"]) # 0\n",
    "survival_stats(data, outcomes, 'Sex', [\"Sex == female\", \"Pclass == 1\",\"Age >= 10\"]) # 1\n",
    "\n",
    "survival_stats(data, outcomes, 'Sex', [\"Sex == female\", \"Pclass == 2\", \"Age < 10\"]) # 1\n",
    "survival_stats(data, outcomes, 'Sex', [\"Sex == female\", \"Pclass == 2\",\"Age >= 10\"]) # 1\n",
    "\n",
    "survival_stats(data, outcomes, 'Sex', [\"Sex == female\", \"Pclass == 3\", \"Age < 10\"]) # \n",
    "survival_stats(data, outcomes, 'Sex', [\"Sex == female\", \"Pclass == 3\",\"Age < 10\", \"SibSp > 0\"]) # 0\n",
    "survival_stats(data, outcomes, 'Sex', [\"Sex == female\", \"Pclass == 3\",\"Age < 10\", \"SibSp == 0\"]) # 1\n",
    "survival_stats(data, outcomes, 'Sex', [\"Sex == female\", \"Pclass == 3\",\"Age >= 10\"]) # \n",
    "survival_stats(data, outcomes, 'Sex', [\"Sex == female\", \"Pclass == 3\",\"Age >= 10\", \"SibSp > 0\"])\n",
    "survival_stats(data, outcomes, 'Sex', [\"Sex == female\", \"Pclass == 3\",\"Age >= 10\", \"SibSp > 0\", \"Parch == 0\"]) # 0\n",
    "survival_stats(data, outcomes, 'Sex', [\"Sex == female\", \"Pclass == 3\",\"Age >= 10\", \"SibSp > 0\", \"Parch > 0\"]) # 0\n",
    "survival_stats(data, outcomes, 'Sex', [\"Sex == female\", \"Pclass == 3\",\"Age >= 10\", \"SibSp == 0\"])\n",
    "survival_stats(data, outcomes, 'Sex', [\"Sex == female\", \"Pclass == 3\",\"Age >= 10\", \"SibSp == 0\", \"Parch == 0\"]) # 1\n",
    "survival_stats(data, outcomes, 'Sex', [\"Sex == female\", \"Pclass == 3\",\"Age >= 10\", \"SibSp == 0\", \"Parch > 0\"]) # 0\n",
    "\n",
    "survival_stats(data, outcomes, 'Parch', [\"Sex == female\", \"Pclass == 3\",\"Age >= 10\", \"SibSp == 0\"])\n",
    "\n",
    "\n",
    "survival_stats(data, outcomes, 'Sex', [\"Sex == male\", \"Pclass == 1\"])\n",
    "survival_stats(data, outcomes, 'Sex', [\"Sex == male\", \"Pclass == 1\", \"Age < 10\"]) # 1\n",
    "survival_stats(data, outcomes, 'Sex', [\"Sex == male\", \"Pclass == 1\",\"Age >= 10\"]) \n",
    "\n",
    "survival_stats(data, outcomes, 'Parch', [\"Sex == male\", \"Pclass == 1\",\"Age >= 10\", \"SibSp > 0\"]) # parch == 2 , man will survive\n",
    "survival_stats(data, outcomes, 'Sex', [\"Sex == male\", \"Pclass == 1\",\"Age >= 10\", \"SibSp > 0\", \"Parch == 2\"]) # 1\n",
    "survival_stats(data, outcomes, 'Sex', [\"Sex == male\", \"Pclass == 1\",\"Age >= 10\", \"SibSp > 0\", \"Parch != 2\"]) # 0\n",
    "\n",
    "survival_stats(data, outcomes, 'Parch', [\"Sex == male\", \"Pclass == 1\",\"Age >= 10\", \"SibSp == 0\"]) #\n",
    "survival_stats(data, outcomes, 'Sex', [\"Sex == male\", \"Pclass == 1\",\"Age >= 10\", \"SibSp == 0\"]) 0\n",
    "\n",
    "survival_stats(data, outcomes, 'Sex', [\"Sex == male\", \"Pclass == 2\"])\n",
    "survival_stats(data, outcomes, 'Sex', [\"Sex == male\", \"Pclass == 2\", \"Age < 10\"]) # 1\n",
    "survival_stats(data, outcomes, 'Sex', [\"Sex == male\", \"Pclass == 2\",\"Age >= 10\"]) \n",
    "survival_stats(data, outcomes, 'SibSp', [\"Sex == male\", \"Pclass == 2\",\"Age >= 10\"]) # when sibsp is 0, more man survive\n",
    "survival_stats(data, outcomes, 'Parch', [\"Sex == male\", \"Pclass == 2\",\"Age >= 10\", \"SibSp == 0\"]) # no found Parch\n",
    "survival_stats(data, outcomes, 'Sex', [\"Sex == male\", \"Pclass == 2\",\"Age >= 10\", \"SibSp == 0\"]) #  0\n",
    "survival_stats(data, outcomes, 'Parch', [\"Sex == male\", \"Pclass == 2\",\"Age >= 10\", \"SibSp > 0\"]) # nou found Parch\n",
    "survival_stats(data, outcomes, 'Sex', [\"Sex == male\", \"Pclass == 2\",\"Age >= 10\", \"SibSp > 0\"]) #  0\n",
    "\n",
    "survival_stats(data, outcomes, 'Sex', [\"Sex == male\", \"Pclass == 3\"])\n",
    "survival_stats(data, outcomes, 'Sex', [\"Sex == male\", \"Pclass == 3\", \"Age < 10\"]) \n",
    "survival_stats(data, outcomes, 'Sex', [\"Sex == male\", \"Pclass == 3\",\"Age >= 10\"]) \n",
    "survival_stats(data, outcomes, 'SibSp', [\"Sex == male\", \"Pclass == 3\",\"Age < 10\"])\n",
    "survival_stats(data, outcomes, 'Sex', [\"Sex == male\", \"Pclass == 3\",\"Age < 10\", \"SibSp != 0\", \"SibSp != 1\"]) # 0 \n",
    "survival_stats(data, outcomes, 'Sex', [\"Sex == male\", \"Pclass == 3\",\"Age < 10\", \"SibSp == 0\"]) # 1 \n",
    "survival_stats(data, outcomes, 'Sex', [\"Sex == male\", \"Pclass == 3\",\"Age < 10\", \"SibSp == 1\"]) # 1\n",
    "                                       \n",
    "survival_stats(data, outcomes, 'SibSp', [\"Sex == male\", \"Pclass == 3\",\"Age >= 10\"])\n",
    "\n",
    "survival_stats(data, outcomes, 'Sex', [\"Sex == male\", \"Pclass == 2\",\"Age >= 10\", \"SibSp == 0\"]) # 0\n",
    "survival_stats(data, outcomes, 'Parch', [\"Sex == male\", \"Pclass == 2\",\"Age >= 10\", \"SibSp == 0\"])\n",
    "survival_stats(data, outcomes, 'Sex', [\"Sex == male\", \"Pclass == 2\",\"Age >= 10\", \"SibSp > 0\"]) # 0\n"
   ]
  },
  {
   "cell_type": "markdown",
   "metadata": {},
   "source": [
    "当查看和研究了图形化的泰坦尼克号上乘客的数据统计后，请补全下面这段代码中缺失的部分，使得函数可以返回你的预测。   \n",
    "在到达最终的预测模型前请确保记录你尝试过的各种特征和条件。   \n",
    "**提示:** 您可以用之前 `predictions_2` 的代码作为开始来修改代码，实现新的预测函数。"
   ]
  },
  {
   "cell_type": "code",
   "execution_count": 237,
   "metadata": {},
   "outputs": [],
   "source": [
    "def predictions_3(data):\n",
    "    \"\"\" 考虑多个特征，准确率至少达到80% \"\"\"\n",
    "    \n",
    "    predictions = []\n",
    "    for _, passenger in data.iterrows():\n",
    "        \n",
    "        # TODO 3\n",
    "        # 移除下方的 'pass' 声明\n",
    "        # 输入你自己的预测条件\n",
    "        if passenger['Sex'] == 'female':\n",
    "            if passenger['Pclass'] == 1:\n",
    "                if passenger['Age'] < 10:\n",
    "                    predictions.append(0)\n",
    "                else:\n",
    "                    predictions.append(1)\n",
    "            elif passenger['Pclass'] == 2:\n",
    "                if passenger['Age'] < 10:\n",
    "                    predictions.append(1)\n",
    "                else:\n",
    "                    predictions.append(1)\n",
    "            elif passenger['Pclass'] == 3:\n",
    "                if passenger['Age'] < 10:\n",
    "                    if passenger[\"SibSp\"] > 0:\n",
    "                        predictions.append(0)\n",
    "                    else:\n",
    "                        predictions.append(1)\n",
    "                else:\n",
    "                    if passenger[\"SibSp\"] > 0:\n",
    "                        predictions.append(0)\n",
    "                    else:\n",
    "                        if passenger['Parch'] in [0, 2, 3]:\n",
    "                            predictions.append(1)\n",
    "                        else:\n",
    "                            predictions.append(0)\n",
    "        else:\n",
    "            if passenger['Pclass'] == 1:\n",
    "                if passenger['Age'] < 10:\n",
    "                    predictions.append(1)\n",
    "                else:\n",
    "                    if passenger['SibSp'] == 0:\n",
    "                        predictions.append(0)\n",
    "                    else:\n",
    "                        if passenger[\"Parch\"] == 2:\n",
    "                            predictions.append(1)\n",
    "                        else:\n",
    "                            predictions.append(0)\n",
    "            elif passenger['Pclass'] == 2:\n",
    "                if passenger['Age'] < 10:\n",
    "                    predictions.append(1)\n",
    "                else:\n",
    "                    predictions.append(0)\n",
    "            elif passenger['Pclass'] ==3:\n",
    "                if passenger['Age'] < 10:\n",
    "                    predictions.append(1)\n",
    "                else:\n",
    "                    predictions.append(0)\n",
    "    # 返回预测结果\n",
    "    return pd.Series(predictions)\n",
    "\n",
    "# 进行预测\n",
    "predictions = predictions_3(data)"
   ]
  },
  {
   "cell_type": "markdown",
   "metadata": {},
   "source": [
    "**问题4**：请描述你实现80%准确度的预测模型所经历的步骤。您观察过哪些特征？某些特性是否比其他特征更有帮助？你用了什么条件来预测生还结果？你最终的预测的准确率是多少？\n",
    "\n",
    "**回答**：步骤：将模型根据Sex分成两大类，再根据Pclass分成三大类，接着按照Age大小切割，然后根据SibSp是否等于0切割，最后一步观察Parch取值对结果的影响。我观察过Pclass，Sex，Age，SibSp 和 Parch 特征。Sex, Pclass, Age这些特征比其他特征更有帮助。\n",
    "用到以下条件：  \n",
    "```\n",
    "survival_stats(data, outcomes, 'Pclass')\n",
    "survival_stats(data, outcomes, 'Sex')\n",
    "survival_stats(data, outcomes, 'Age')\n",
    "survival_stats(data, outcomes, 'SibSp')\n",
    "survival_stats(data, outcomes, 'Parch') \n",
    "\n",
    "survival_stats(data, outcomes, 'Sex', [\"Sex == female\", \"Pclass == 1\"])\n",
    "survival_stats(data, outcomes, 'Sex', [\"Sex == female\", \"Pclass == 2\"])\n",
    "survival_stats(data, outcomes, 'Sex', [\"Sex == female\", \"Pclass == 3\"])\n",
    "\n",
    "survival_stats(data, outcomes, 'Sex', [\"Sex == female\", \"Pclass == 1\"])\n",
    "survival_stats(data, outcomes, 'Sex', [\"Sex == female\", \"Pclass == 1\", \"Age < 10\"]) # 0\n",
    "survival_stats(data, outcomes, 'Sex', [\"Sex == female\", \"Pclass == 1\",\"Age >= 10\"]) # 1\n",
    "\n",
    "survival_stats(data, outcomes, 'Sex', [\"Sex == female\", \"Pclass == 2\", \"Age < 10\"]) # 1\n",
    "survival_stats(data, outcomes, 'Sex', [\"Sex == female\", \"Pclass == 2\",\"Age >= 10\"]) # 1\n",
    "\n",
    "survival_stats(data, outcomes, 'Sex', [\"Sex == female\", \"Pclass == 3\", \"Age < 10\"]) # \n",
    "survival_stats(data, outcomes, 'Sex', [\"Sex == female\", \"Pclass == 3\",\"Age < 10\", \"SibSp > 0\"]) # 0\n",
    "survival_stats(data, outcomes, 'Sex', [\"Sex == female\", \"Pclass == 3\",\"Age < 10\", \"SibSp == 0\"]) # 1\n",
    "survival_stats(data, outcomes, 'Sex', [\"Sex == female\", \"Pclass == 3\",\"Age >= 10\"]) # \n",
    "survival_stats(data, outcomes, 'Sex', [\"Sex == female\", \"Pclass == 3\",\"Age >= 10\", \"SibSp > 0\"])\n",
    "survival_stats(data, outcomes, 'Sex', [\"Sex == female\", \"Pclass == 3\",\"Age >= 10\", \"SibSp > 0\", \"Parch == 0\"]) # 0\n",
    "survival_stats(data, outcomes, 'Sex', [\"Sex == female\", \"Pclass == 3\",\"Age >= 10\", \"SibSp > 0\", \"Parch > 0\"]) # 0\n",
    "survival_stats(data, outcomes, 'Sex', [\"Sex == female\", \"Pclass == 3\",\"Age >= 10\", \"SibSp == 0\"])\n",
    "survival_stats(data, outcomes, 'Sex', [\"Sex == female\", \"Pclass == 3\",\"Age >= 10\", \"SibSp == 0\", \"Parch == 0\"]) # 1\n",
    "survival_stats(data, outcomes, 'Sex', [\"Sex == female\", \"Pclass == 3\",\"Age >= 10\", \"SibSp == 0\", \"Parch > 0\"]) # 0\n",
    "\n",
    "survival_stats(data, outcomes, 'Parch', [\"Sex == female\", \"Pclass == 3\",\"Age >= 10\", \"SibSp == 0\"])\n",
    "\n",
    "\n",
    "survival_stats(data, outcomes, 'Sex', [\"Sex == male\", \"Pclass == 1\"])\n",
    "survival_stats(data, outcomes, 'Sex', [\"Sex == male\", \"Pclass == 1\", \"Age < 10\"]) # 1\n",
    "survival_stats(data, outcomes, 'Sex', [\"Sex == male\", \"Pclass == 1\",\"Age >= 10\"]) \n",
    "\n",
    "survival_stats(data, outcomes, 'Parch', [\"Sex == male\", \"Pclass == 1\",\"Age >= 10\", \"SibSp > 0\"]) # parch == 2 , man will survive\n",
    "survival_stats(data, outcomes, 'Sex', [\"Sex == male\", \"Pclass == 1\",\"Age >= 10\", \"SibSp > 0\", \"Parch == 2\"]) # 1\n",
    "survival_stats(data, outcomes, 'Sex', [\"Sex == male\", \"Pclass == 1\",\"Age >= 10\", \"SibSp > 0\", \"Parch != 2\"]) # 0\n",
    "\n",
    "survival_stats(data, outcomes, 'Parch', [\"Sex == male\", \"Pclass == 1\",\"Age >= 10\", \"SibSp == 0\"]) #\n",
    "survival_stats(data, outcomes, 'Sex', [\"Sex == male\", \"Pclass == 1\",\"Age >= 10\", \"SibSp == 0\"]) 0\n",
    "\n",
    "survival_stats(data, outcomes, 'Sex', [\"Sex == male\", \"Pclass == 2\"])\n",
    "survival_stats(data, outcomes, 'Sex', [\"Sex == male\", \"Pclass == 2\", \"Age < 10\"]) # 1\n",
    "survival_stats(data, outcomes, 'Sex', [\"Sex == male\", \"Pclass == 2\",\"Age >= 10\"]) \n",
    "survival_stats(data, outcomes, 'SibSp', [\"Sex == male\", \"Pclass == 2\",\"Age >= 10\"]) # when sibsp is 0, more man survive\n",
    "survival_stats(data, outcomes, 'Parch', [\"Sex == male\", \"Pclass == 2\",\"Age >= 10\", \"SibSp == 0\"]) # no found Parch\n",
    "survival_stats(data, outcomes, 'Sex', [\"Sex == male\", \"Pclass == 2\",\"Age >= 10\", \"SibSp == 0\"]) #  0\n",
    "survival_stats(data, outcomes, 'Parch', [\"Sex == male\", \"Pclass == 2\",\"Age >= 10\", \"SibSp > 0\"]) # nou found Parch\n",
    "survival_stats(data, outcomes, 'Sex', [\"Sex == male\", \"Pclass == 2\",\"Age >= 10\", \"SibSp > 0\"]) #  0\n",
    "\n",
    "survival_stats(data, outcomes, 'Sex', [\"Sex == male\", \"Pclass == 3\"])\n",
    "survival_stats(data, outcomes, 'Sex', [\"Sex == male\", \"Pclass == 3\", \"Age < 10\"]) \n",
    "survival_stats(data, outcomes, 'Sex', [\"Sex == male\", \"Pclass == 3\",\"Age >= 10\"]) \n",
    "survival_stats(data, outcomes, 'SibSp', [\"Sex == male\", \"Pclass == 3\",\"Age < 10\"])\n",
    "survival_stats(data, outcomes, 'Sex', [\"Sex == male\", \"Pclass == 3\",\"Age < 10\", \"SibSp != 0\", \"SibSp != 1\"]) # 0 \n",
    "survival_stats(data, outcomes, 'Sex', [\"Sex == male\", \"Pclass == 3\",\"Age < 10\", \"SibSp == 0\"]) # 1 \n",
    "survival_stats(data, outcomes, 'Sex', [\"Sex == male\", \"Pclass == 3\",\"Age < 10\", \"SibSp == 1\"]) # 1\n",
    "                                       \n",
    "survival_stats(data, outcomes, 'SibSp', [\"Sex == male\", \"Pclass == 3\",\"Age >= 10\"])\n",
    "\n",
    "survival_stats(data, outcomes, 'Sex', [\"Sex == male\", \"Pclass == 2\",\"Age >= 10\", \"SibSp == 0\"]) # 0\n",
    "survival_stats(data, outcomes, 'Parch', [\"Sex == male\", \"Pclass == 2\",\"Age >= 10\", \"SibSp == 0\"])\n",
    "survival_stats(data, outcomes, 'Sex', [\"Sex == male\", \"Pclass == 2\",\"Age >= 10\", \"SibSp > 0\"]) # 0  \n",
    "```\n",
    "\n",
    "准确率为 81.59%  \n",
    "\n",
    "**提示**：你需要在下面添加一个代码区域，实现代码并运行来计算准确率。"
   ]
  },
  {
   "cell_type": "code",
   "execution_count": 240,
   "metadata": {},
   "outputs": [
    {
     "name": "stdout",
     "output_type": "stream",
     "text": [
      "Predictions have an accuracy of 81.59%.\n"
     ]
    }
   ],
   "source": [
    "print accuracy_score(outcomes, predictions) "
   ]
  },
  {
   "cell_type": "markdown",
   "metadata": {},
   "source": [
    "### 结论\n",
    "\n",
    "经过了数次对数据的探索和分类，你创建了一个预测泰坦尼克号乘客存活率的有用的算法。在这个项目中你手动地实现了一个简单的机器学习模型——决策树（*decision tree*）。决策树每次按照一个特征把数据分割成越来越小的群组（被称为 *nodes*）。每次数据的一个子集被分出来，如果分割后新子集之间的相似度比分割前更高（包含近似的标签），我们的预测也就更加准确。电脑来帮助我们做这件事会比手动做更彻底，更精确。[这个链接](http://www.r2d3.us/visual-intro-to-machine-learning-part-1/)提供了另一个使用决策树做机器学习入门的例子。  \n",
    "\n",
    "决策树是许多**监督学习**算法中的一种。在监督学习中，我们关心的是使用数据的特征并根据数据的结果标签进行预测或建模。也就是说，每一组数据都有一个真正的结果值，不论是像泰坦尼克号生存数据集一样的标签，或者是连续的房价预测。\n",
    "\n",
    "**问题5**：想象一个真实世界中应用监督学习的场景，你期望预测的结果是什么？举出两个在这个场景中能够帮助你进行预测的数据集中的特征。"
   ]
  },
  {
   "cell_type": "markdown",
   "metadata": {
    "collapsed": true
   },
   "source": [
    "**回答**: 预测房价。可以预测的特征有房屋面积，装修程度。"
   ]
  },
  {
   "cell_type": "markdown",
   "metadata": {},
   "source": [
    "> **注意**: 当你写完了所有**5个问题，3个TODO**。你就可以把你的 iPython Notebook 导出成 HTML 文件。你可以在菜单栏，这样导出**File -> Download as -> HTML (.html)** 把这个 HTML 和这个 iPython notebook 一起做为你的作业提交。"
   ]
  },
  {
   "cell_type": "markdown",
   "metadata": {},
   "source": [
    "---\n",
    "翻译：毛礼建 ｜ 校译：黄强 ｜ 审译：曹晨巍"
   ]
  }
 ],
 "metadata": {
  "kernelspec": {
   "display_name": "Python 2",
   "language": "python",
   "name": "python2"
  },
  "language_info": {
   "codemirror_mode": {
    "name": "ipython",
    "version": 2
   },
   "file_extension": ".py",
   "mimetype": "text/x-python",
   "name": "python",
   "nbconvert_exporter": "python",
   "pygments_lexer": "ipython2",
   "version": "2.7.12"
  }
 },
 "nbformat": 4,
 "nbformat_minor": 1
}
